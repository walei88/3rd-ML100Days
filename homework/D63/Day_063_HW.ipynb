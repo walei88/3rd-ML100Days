{
 "cells": [
  {
   "cell_type": "markdown",
   "metadata": {},
   "source": [
    "# 作業\n",
    "* 在精簡深度學習的方式上 : 卷積類神經 (CNN) 採用像素遠近，而遞歸類神經 (RNN) 採用著則是時間遠近\n",
    "* 那麼，既然有著類似的設計精神，兩者是否有可能互換應用呢?"
   ]
  },
  {
   "cell_type": "markdown",
   "metadata": {
    "collapsed": true
   },
   "source": [
    "即便有類似的設計精神，但我認為在原理上還是有本質上的差異，因此不能互換應用：\n",
    "\n",
    "1. CNN的運作原理是透過「卷積核(convolution kernel)」篩選特徵，來對前後層來進行連接關係\n",
    "2. RNN的運作原理是將 神經元的輸出 在下一個時間段中當作特徵 輸入，不斷地循環。"
   ]
  },
  {
   "cell_type": "markdown",
   "metadata": {},
   "source": [
    "另外，CNN主要針對圖片等「靜態的類型」做分類，而RNN主要針對影片、語音等「動態的類型」做分類。"
   ]
  },
  {
   "cell_type": "markdown",
   "metadata": {},
   "source": [
    "### CNN的原理：\n",
    "![title](photo_1.png)"
   ]
  },
  {
   "cell_type": "markdown",
   "metadata": {},
   "source": [
    "### RNN的原理：\n",
    "![title](photo_2.jpeg)"
   ]
  },
  {
   "cell_type": "markdown",
   "metadata": {},
   "source": [
    "參考資料：\n",
    "1. https://blog.csdn.net/lff1208/article/details/77717149\n",
    "2. https://www.itread01.com/content/1536001138.html\n",
    "3. https://mp.weixin.qq.com/s/f0sv7c-H5o5L_wy2sUonUQ?fbclid=IwAR1xXFEf84Cc7b5At0c8LTzAOyMvVforjxjJebx14eSSzAoI52lMG_5tRPY"
   ]
  }
 ],
 "metadata": {
  "kernelspec": {
   "display_name": "Python 3",
   "language": "python",
   "name": "python3"
  },
  "language_info": {
   "codemirror_mode": {
    "name": "ipython",
    "version": 3
   },
   "file_extension": ".py",
   "mimetype": "text/x-python",
   "name": "python",
   "nbconvert_exporter": "python",
   "pygments_lexer": "ipython3",
   "version": "3.7.3"
  }
 },
 "nbformat": 4,
 "nbformat_minor": 2
}
