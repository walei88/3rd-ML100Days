{
 "cells": [
  {
   "cell_type": "markdown",
   "metadata": {},
   "source": [
    "## Work\n",
    "1. 試比較 save_best_only 與否的差異\n",
    "2. 請僅存入將 save_weights_only 設定為 True, 並嘗試 reset ipynb 並將模型與權重重新建回並預測 x_test"
   ]
  },
  {
   "cell_type": "code",
   "execution_count": 1,
   "metadata": {},
   "outputs": [
    {
     "name": "stderr",
     "output_type": "stream",
     "text": [
      "Using TensorFlow backend.\n"
     ]
    }
   ],
   "source": [
    "import os\n",
    "import keras\n",
    "\n",
    "# Disable GPU\n",
    "# os.environ[\"CUDA_VISIBLE_DEVICES\"] = \"\""
   ]
  },
  {
   "cell_type": "code",
   "execution_count": 2,
   "metadata": {},
   "outputs": [],
   "source": [
    "train, test = keras.datasets.cifar10.load_data()"
   ]
  },
  {
   "cell_type": "code",
   "execution_count": 3,
   "metadata": {},
   "outputs": [],
   "source": [
    "## 資料前處理\n",
    "def preproc_x(x, flatten=True):\n",
    "    x = x / 255.\n",
    "    if flatten:\n",
    "        x = x.reshape((len(x), -1))\n",
    "    return x\n",
    "\n",
    "def preproc_y(y, num_classes=10):\n",
    "    if y.shape[-1] == 1:\n",
    "        y = keras.utils.to_categorical(y, num_classes)\n",
    "    return y    "
   ]
  },
  {
   "cell_type": "code",
   "execution_count": 4,
   "metadata": {},
   "outputs": [],
   "source": [
    "x_train, y_train = train\n",
    "x_test, y_test = test\n",
    "\n",
    "# Preproc the inputs\n",
    "x_train = preproc_x(x_train)\n",
    "x_test = preproc_x(x_test)\n",
    "\n",
    "# Preprc the outputs\n",
    "y_train = preproc_y(y_train)\n",
    "y_test = preproc_y(y_test)"
   ]
  },
  {
   "cell_type": "code",
   "execution_count": 5,
   "metadata": {},
   "outputs": [],
   "source": [
    "from keras.layers import BatchNormalization\n",
    "\n",
    "\"\"\"\n",
    "建立神經網路，並加入 BN layer\n",
    "\"\"\"\n",
    "def build_mlp(input_shape, output_units=10, num_neurons=[128, 64, 32]):\n",
    "    input_layer = keras.layers.Input(input_shape)\n",
    "    \n",
    "    for i, n_units in enumerate(num_neurons):\n",
    "        if i == 0:\n",
    "            x = keras.layers.Dense(units=n_units, \n",
    "                                   activation=\"relu\", \n",
    "                                   name=\"hidden_layer\"+str(i+1))(input_layer)\n",
    "            x = BatchNormalization()(x)\n",
    "        else:\n",
    "            x = keras.layers.Dense(units=n_units, \n",
    "                                   activation=\"relu\", \n",
    "                                   name=\"hidden_layer\"+str(i+1))(x)\n",
    "            x = BatchNormalization()(x)\n",
    "    \n",
    "    output_layer = keras.layers.Dense(units=output_units, activation=\"softmax\", name=\"output_layer\")(x)\n",
    "    \n",
    "    model = keras.models.Model(inputs=[input_layer], outputs=[output_layer])\n",
    "    return model"
   ]
  },
  {
   "cell_type": "code",
   "execution_count": 6,
   "metadata": {},
   "outputs": [],
   "source": [
    "\"\"\"Code Here\n",
    "設定超參數\n",
    "\"\"\"\n",
    "LEARNING_RATE = 1e-3\n",
    "EPOCHS = 35\n",
    "BATCH_SIZE = 1024\n",
    "MOMENTUM = 0.95"
   ]
  },
  {
   "cell_type": "code",
   "execution_count": 7,
   "metadata": {},
   "outputs": [],
   "source": [
    "results = {}"
   ]
  },
  {
   "cell_type": "markdown",
   "metadata": {},
   "source": [
    "# save_best_only=True"
   ]
  },
  {
   "cell_type": "code",
   "execution_count": 8,
   "metadata": {},
   "outputs": [
    {
     "name": "stdout",
     "output_type": "stream",
     "text": [
      "########################################\n",
      "Experiment with exp-SaveBestOnly_True\n",
      "########################################\n",
      "Model: \"model_1\"\n",
      "_________________________________________________________________\n",
      "Layer (type)                 Output Shape              Param #   \n",
      "=================================================================\n",
      "input_1 (InputLayer)         (None, 3072)              0         \n",
      "_________________________________________________________________\n",
      "hidden_layer1 (Dense)        (None, 128)               393344    \n",
      "_________________________________________________________________\n",
      "batch_normalization_1 (Batch (None, 128)               512       \n",
      "_________________________________________________________________\n",
      "hidden_layer2 (Dense)        (None, 64)                8256      \n",
      "_________________________________________________________________\n",
      "batch_normalization_2 (Batch (None, 64)                256       \n",
      "_________________________________________________________________\n",
      "hidden_layer3 (Dense)        (None, 32)                2080      \n",
      "_________________________________________________________________\n",
      "batch_normalization_3 (Batch (None, 32)                128       \n",
      "_________________________________________________________________\n",
      "output_layer (Dense)         (None, 10)                330       \n",
      "=================================================================\n",
      "Total params: 404,906\n",
      "Trainable params: 404,458\n",
      "Non-trainable params: 448\n",
      "_________________________________________________________________\n",
      "Train on 50000 samples, validate on 10000 samples\n",
      "Epoch 1/35\n",
      "50000/50000 [==============================] - 9s 178us/step - loss: 2.3244 - accuracy: 0.2173 - val_loss: 2.1804 - val_accuracy: 0.2094\n",
      "Epoch 2/35\n",
      "50000/50000 [==============================] - 4s 90us/step - loss: 1.9054 - accuracy: 0.3341 - val_loss: 2.0537 - val_accuracy: 0.2792\n",
      "Epoch 3/35\n",
      "50000/50000 [==============================] - 7s 133us/step - loss: 1.7976 - accuracy: 0.3725 - val_loss: 1.9450 - val_accuracy: 0.3242\n",
      "Epoch 4/35\n",
      "50000/50000 [==============================] - 6s 113us/step - loss: 1.7374 - accuracy: 0.3930 - val_loss: 1.8727 - val_accuracy: 0.3466\n",
      "Epoch 5/35\n",
      "50000/50000 [==============================] - 6s 114us/step - loss: 1.6942 - accuracy: 0.4107 - val_loss: 1.7906 - val_accuracy: 0.3768\n",
      "Epoch 6/35\n",
      "50000/50000 [==============================] - 7s 135us/step - loss: 1.6596 - accuracy: 0.4217 - val_loss: 1.7471 - val_accuracy: 0.3925\n",
      "Epoch 7/35\n",
      "50000/50000 [==============================] - 6s 123us/step - loss: 1.6280 - accuracy: 0.4325 - val_loss: 1.6944 - val_accuracy: 0.4080\n",
      "Epoch 8/35\n",
      "50000/50000 [==============================] - 5s 91us/step - loss: 1.6014 - accuracy: 0.4422 - val_loss: 1.6730 - val_accuracy: 0.4123\n",
      "Epoch 9/35\n",
      "50000/50000 [==============================] - 5s 101us/step - loss: 1.5774 - accuracy: 0.4504 - val_loss: 1.6516 - val_accuracy: 0.4231\n",
      "Epoch 10/35\n",
      "50000/50000 [==============================] - 4s 86us/step - loss: 1.5555 - accuracy: 0.4560 - val_loss: 1.6402 - val_accuracy: 0.4235\n",
      "Epoch 11/35\n",
      "50000/50000 [==============================] - 4s 83us/step - loss: 1.5370 - accuracy: 0.4622 - val_loss: 1.6286 - val_accuracy: 0.4296\n",
      "Epoch 12/35\n",
      "50000/50000 [==============================] - 6s 117us/step - loss: 1.5194 - accuracy: 0.4687 - val_loss: 1.6088 - val_accuracy: 0.4402\n",
      "Epoch 13/35\n",
      "50000/50000 [==============================] - 6s 125us/step - loss: 1.5018 - accuracy: 0.4765 - val_loss: 1.5993 - val_accuracy: 0.4346\n",
      "Epoch 14/35\n",
      "50000/50000 [==============================] - 5s 102us/step - loss: 1.4849 - accuracy: 0.4800 - val_loss: 1.5849 - val_accuracy: 0.4444\n",
      "Epoch 15/35\n",
      "50000/50000 [==============================] - 4s 86us/step - loss: 1.4697 - accuracy: 0.4866 - val_loss: 1.5797 - val_accuracy: 0.4444\n",
      "Epoch 16/35\n",
      "50000/50000 [==============================] - 4s 87us/step - loss: 1.4573 - accuracy: 0.4904 - val_loss: 1.5705 - val_accuracy: 0.4466\n",
      "Epoch 17/35\n",
      "50000/50000 [==============================] - 4s 84us/step - loss: 1.4427 - accuracy: 0.4945 - val_loss: 1.5641 - val_accuracy: 0.4512\n",
      "Epoch 18/35\n",
      "50000/50000 [==============================] - 7s 139us/step - loss: 1.4302 - accuracy: 0.4985 - val_loss: 1.5588 - val_accuracy: 0.4513\n",
      "Epoch 19/35\n",
      "50000/50000 [==============================] - 6s 111us/step - loss: 1.4181 - accuracy: 0.5050 - val_loss: 1.5522 - val_accuracy: 0.4529\n",
      "Epoch 20/35\n",
      "50000/50000 [==============================] - 5s 104us/step - loss: 1.4073 - accuracy: 0.5078 - val_loss: 1.5524 - val_accuracy: 0.4536\n",
      "Epoch 21/35\n",
      "50000/50000 [==============================] - 4s 86us/step - loss: 1.3948 - accuracy: 0.5126 - val_loss: 1.5458 - val_accuracy: 0.4620\n",
      "Epoch 22/35\n",
      "50000/50000 [==============================] - 4s 86us/step - loss: 1.3840 - accuracy: 0.5150 - val_loss: 1.5438 - val_accuracy: 0.4534\n",
      "Epoch 23/35\n",
      "50000/50000 [==============================] - 5s 95us/step - loss: 1.3745 - accuracy: 0.5201 - val_loss: 1.5365 - val_accuracy: 0.4588\n",
      "Epoch 24/35\n",
      "50000/50000 [==============================] - 5s 91us/step - loss: 1.3638 - accuracy: 0.5220 - val_loss: 1.5366 - val_accuracy: 0.4594\n",
      "Epoch 25/35\n",
      "50000/50000 [==============================] - 4s 87us/step - loss: 1.3544 - accuracy: 0.5269 - val_loss: 1.5335 - val_accuracy: 0.4595\n",
      "Epoch 26/35\n",
      "50000/50000 [==============================] - 4s 90us/step - loss: 1.3437 - accuracy: 0.5290 - val_loss: 1.5306 - val_accuracy: 0.4608\n",
      "Epoch 27/35\n",
      "50000/50000 [==============================] - 4s 87us/step - loss: 1.3344 - accuracy: 0.5324 - val_loss: 1.5324 - val_accuracy: 0.4615\n",
      "Epoch 28/35\n",
      "50000/50000 [==============================] - 4s 84us/step - loss: 1.3234 - accuracy: 0.5356 - val_loss: 1.5253 - val_accuracy: 0.4644\n",
      "Epoch 29/35\n",
      "50000/50000 [==============================] - 4s 84us/step - loss: 1.3161 - accuracy: 0.5370 - val_loss: 1.5138 - val_accuracy: 0.4682\n",
      "Epoch 30/35\n",
      "50000/50000 [==============================] - 4s 85us/step - loss: 1.3079 - accuracy: 0.5414 - val_loss: 1.5188 - val_accuracy: 0.4673\n",
      "Epoch 31/35\n",
      "50000/50000 [==============================] - 4s 87us/step - loss: 1.2981 - accuracy: 0.5440 - val_loss: 1.5100 - val_accuracy: 0.4690\n",
      "Epoch 32/35\n",
      "50000/50000 [==============================] - 6s 115us/step - loss: 1.2904 - accuracy: 0.5470 - val_loss: 1.5233 - val_accuracy: 0.4707\n",
      "Epoch 33/35\n",
      "50000/50000 [==============================] - 5s 93us/step - loss: 1.2818 - accuracy: 0.5505 - val_loss: 1.5160 - val_accuracy: 0.4728\n",
      "Epoch 34/35\n",
      "50000/50000 [==============================] - 5s 92us/step - loss: 1.2717 - accuracy: 0.5534 - val_loss: 1.5224 - val_accuracy: 0.4669\n",
      "Epoch 35/35\n",
      "50000/50000 [==============================] - 8s 160us/step - loss: 1.2661 - accuracy: 0.5558 - val_loss: 1.5131 - val_accuracy: 0.4669\n"
     ]
    }
   ],
   "source": [
    "# 載入 Callbacks\n",
    "\"\"\"Code Here\n",
    "設定 callbacks: model checkpoint\n",
    "\"\"\"\n",
    "from keras.callbacks import ModelCheckpoint\n",
    "model_ckpt = ModelCheckpoint(filepath=\"./Day086_model_1.h5\",\n",
    "                             monitor=\"val_loss\",\n",
    "                             save_best_only=True)\n",
    "\n",
    "\"\"\"Code Here\n",
    "撰寫你的訓練流程並將結果用 dictionary 紀錄\n",
    "\"\"\"\n",
    "exp_name_tag = \"exp-SaveBestOnly_True\"\n",
    "keras.backend.clear_session() # 把舊的 Graph 清掉    \n",
    "print(\"#\"*40)\n",
    "print(\"Experiment with %s\" %(exp_name_tag))\n",
    "print(\"#\"*40)\n",
    "model = build_mlp(input_shape=x_train.shape[1:])\n",
    "model.summary()\n",
    "opt = keras.optimizers.SGD(lr=LEARNING_RATE, nesterov=True, momentum=MOMENTUM)\n",
    "model.compile(loss=\"categorical_crossentropy\", metrics=[\"accuracy\"], optimizer=opt)\n",
    "\n",
    "model.fit(x_train, y_train, \n",
    "          epochs=EPOCHS, \n",
    "          batch_size=BATCH_SIZE, \n",
    "          validation_data=(x_test, y_test), \n",
    "          shuffle=True,\n",
    "          callbacks=[model_ckpt]\n",
    "         )\n",
    "\n",
    "# Collect results\n",
    "train_loss = model.history.history[\"loss\"]\n",
    "valid_loss = model.history.history[\"val_loss\"]\n",
    "train_acc = model.history.history[\"accuracy\"]\n",
    "valid_acc = model.history.history[\"val_accuracy\"]\n",
    "                             \n",
    "\n",
    "results[exp_name_tag] = {'train-loss': train_loss,\n",
    "                         'valid-loss': valid_loss,\n",
    "                         'train-acc': train_acc,\n",
    "                         'valid-acc': valid_acc}"
   ]
  },
  {
   "cell_type": "code",
   "execution_count": 9,
   "metadata": {},
   "outputs": [
    {
     "data": {
      "image/png": "[encoded data removed]",
      "text/plain": [
       "<Figure size 576x432 with 1 Axes>"
      ]
     },
     "metadata": {
      "needs_background": "light"
     },
     "output_type": "display_data"
    },
    {
     "data": {
      "image/png": "[encoded data removed]",
      "text/plain": [
       "<Figure size 576x432 with 1 Axes>"
      ]
     },
     "metadata": {
      "needs_background": "light"
     },
     "output_type": "display_data"
    }
   ],
   "source": [
    "import matplotlib.pyplot as plt\n",
    "%matplotlib inline\n",
    "\n",
    "\"\"\"Code Here\n",
    "將結果繪出\n",
    "\"\"\"\n",
    "color_bar = [\"r\", \"g\", \"b\", \"y\", \"m\", \"c\", \"xkcd:pale violet\", \"tab:orange\",\"k\"]\n",
    "cond = exp_name_tag\n",
    "\n",
    "plt.figure(figsize=(8,6))\n",
    "plt.plot(range(len(results[cond]['train-loss'])),results[cond]['train-loss'], '-', label=cond, color=color_bar[0])\n",
    "plt.plot(range(len(results[cond]['valid-loss'])),results[cond]['valid-loss'], '--', label=cond, color=color_bar[1])\n",
    "plt.title(\"Loss\")\n",
    "plt.ylim([0, 5])\n",
    "plt.legend()\n",
    "plt.show()\n",
    "\n",
    "plt.figure(figsize=(8,6))\n",
    "plt.plot(range(len(results[cond]['train-acc'])),results[cond]['train-acc'], '-', label=cond, color=color_bar[0])\n",
    "plt.plot(range(len(results[cond]['valid-acc'])),results[cond]['valid-acc'], '--', label=cond, color=color_bar[1])\n",
    "plt.title(\"Accuracy\")\n",
    "plt.legend()\n",
    "plt.show()"
   ]
  },
  {
   "cell_type": "markdown",
   "metadata": {},
   "source": [
    "# save_best_only=False"
   ]
  },
  {
   "cell_type": "code",
   "execution_count": 10,
   "metadata": {},
   "outputs": [
    {
     "name": "stdout",
     "output_type": "stream",
     "text": [
      "########################################\n",
      "Experiment with exp-SaveBestOnly_False\n",
      "########################################\n",
      "Model: \"model_1\"\n",
      "_________________________________________________________________\n",
      "Layer (type)                 Output Shape              Param #   \n",
      "=================================================================\n",
      "input_1 (InputLayer)         (None, 3072)              0         \n",
      "_________________________________________________________________\n",
      "hidden_layer1 (Dense)        (None, 128)               393344    \n",
      "_________________________________________________________________\n",
      "batch_normalization_1 (Batch (None, 128)               512       \n",
      "_________________________________________________________________\n",
      "hidden_layer2 (Dense)        (None, 64)                8256      \n",
      "_________________________________________________________________\n",
      "batch_normalization_2 (Batch (None, 64)                256       \n",
      "_________________________________________________________________\n",
      "hidden_layer3 (Dense)        (None, 32)                2080      \n",
      "_________________________________________________________________\n",
      "batch_normalization_3 (Batch (None, 32)                128       \n",
      "_________________________________________________________________\n",
      "output_layer (Dense)         (None, 10)                330       \n",
      "=================================================================\n",
      "Total params: 404,906\n",
      "Trainable params: 404,458\n",
      "Non-trainable params: 448\n",
      "_________________________________________________________________\n",
      "Train on 50000 samples, validate on 10000 samples\n",
      "Epoch 1/35\n",
      "50000/50000 [==============================] - 9s 174us/step - loss: 2.2986 - accuracy: 0.2300 - val_loss: 2.2259 - val_accuracy: 0.1489\n",
      "Epoch 2/35\n",
      "50000/50000 [==============================] - 5s 96us/step - loss: 1.9078 - accuracy: 0.3312 - val_loss: 2.0288 - val_accuracy: 0.2538\n",
      "Epoch 3/35\n",
      "50000/50000 [==============================] - 4s 86us/step - loss: 1.7947 - accuracy: 0.3702 - val_loss: 1.9028 - val_accuracy: 0.3296\n",
      "Epoch 4/35\n",
      "50000/50000 [==============================] - 5s 93us/step - loss: 1.7266 - accuracy: 0.3939 - val_loss: 1.8133 - val_accuracy: 0.3739\n",
      "Epoch 5/35\n",
      "50000/50000 [==============================] - 4s 86us/step - loss: 1.6796 - accuracy: 0.4107 - val_loss: 1.7538 - val_accuracy: 0.3893\n",
      "Epoch 6/35\n",
      "50000/50000 [==============================] - 5s 100us/step - loss: 1.6429 - accuracy: 0.4248 - val_loss: 1.7069 - val_accuracy: 0.4047\n",
      "Epoch 7/35\n",
      "50000/50000 [==============================] - 4s 87us/step - loss: 1.6100 - accuracy: 0.4372 - val_loss: 1.6663 - val_accuracy: 0.4120\n",
      "Epoch 8/35\n",
      "50000/50000 [==============================] - 4s 90us/step - loss: 1.5836 - accuracy: 0.4456 - val_loss: 1.6387 - val_accuracy: 0.4255\n",
      "Epoch 9/35\n",
      "50000/50000 [==============================] - 4s 86us/step - loss: 1.5607 - accuracy: 0.4519 - val_loss: 1.6332 - val_accuracy: 0.4265\n",
      "Epoch 10/35\n",
      "50000/50000 [==============================] - 4s 82us/step - loss: 1.5383 - accuracy: 0.4606 - val_loss: 1.6082 - val_accuracy: 0.4374\n",
      "Epoch 11/35\n",
      "50000/50000 [==============================] - 4s 81us/step - loss: 1.5180 - accuracy: 0.4681 - val_loss: 1.5896 - val_accuracy: 0.4394\n",
      "Epoch 12/35\n",
      "50000/50000 [==============================] - 4s 81us/step - loss: 1.5001 - accuracy: 0.4735 - val_loss: 1.5833 - val_accuracy: 0.4431\n",
      "Epoch 13/35\n",
      "50000/50000 [==============================] - 4s 82us/step - loss: 1.4821 - accuracy: 0.4806 - val_loss: 1.5715 - val_accuracy: 0.4448\n",
      "Epoch 14/35\n",
      "50000/50000 [==============================] - 6s 118us/step - loss: 1.4671 - accuracy: 0.4853 - val_loss: 1.5650 - val_accuracy: 0.4441\n",
      "Epoch 15/35\n",
      "50000/50000 [==============================] - 4s 84us/step - loss: 1.4521 - accuracy: 0.4898 - val_loss: 1.5557 - val_accuracy: 0.4502\n",
      "Epoch 16/35\n",
      "50000/50000 [==============================] - 4s 88us/step - loss: 1.4371 - accuracy: 0.4951 - val_loss: 1.5565 - val_accuracy: 0.4507\n",
      "Epoch 17/35\n",
      "50000/50000 [==============================] - 4s 85us/step - loss: 1.4232 - accuracy: 0.5007 - val_loss: 1.5564 - val_accuracy: 0.4499\n",
      "Epoch 18/35\n",
      "50000/50000 [==============================] - 5s 90us/step - loss: 1.4103 - accuracy: 0.5039 - val_loss: 1.5369 - val_accuracy: 0.4561\n",
      "Epoch 19/35\n",
      "50000/50000 [==============================] - 5s 107us/step - loss: 1.3981 - accuracy: 0.5085 - val_loss: 1.5257 - val_accuracy: 0.4646\n",
      "Epoch 20/35\n",
      "50000/50000 [==============================] - 4s 86us/step - loss: 1.3851 - accuracy: 0.5134 - val_loss: 1.5332 - val_accuracy: 0.4565\n",
      "Epoch 21/35\n",
      "50000/50000 [==============================] - 4s 83us/step - loss: 1.3721 - accuracy: 0.5162 - val_loss: 1.5275 - val_accuracy: 0.4611\n",
      "Epoch 22/35\n",
      "50000/50000 [==============================] - 7s 131us/step - loss: 1.3619 - accuracy: 0.5210 - val_loss: 1.5172 - val_accuracy: 0.4671\n",
      "Epoch 23/35\n",
      "50000/50000 [==============================] - 6s 116us/step - loss: 1.3521 - accuracy: 0.5234 - val_loss: 1.5272 - val_accuracy: 0.4685\n",
      "Epoch 24/35\n",
      "50000/50000 [==============================] - 5s 97us/step - loss: 1.3400 - accuracy: 0.5275 - val_loss: 1.5129 - val_accuracy: 0.4659\n",
      "Epoch 25/35\n",
      "50000/50000 [==============================] - 5s 106us/step - loss: 1.3307 - accuracy: 0.5312 - val_loss: 1.5167 - val_accuracy: 0.4635\n",
      "Epoch 26/35\n",
      "50000/50000 [==============================] - 5s 103us/step - loss: 1.3188 - accuracy: 0.5343 - val_loss: 1.5114 - val_accuracy: 0.4659\n",
      "Epoch 27/35\n",
      "50000/50000 [==============================] - 5s 95us/step - loss: 1.3088 - accuracy: 0.5390 - val_loss: 1.5035 - val_accuracy: 0.4683\n",
      "Epoch 28/35\n",
      "50000/50000 [==============================] - 5s 101us/step - loss: 1.2990 - accuracy: 0.5416 - val_loss: 1.5111 - val_accuracy: 0.4694\n",
      "Epoch 29/35\n",
      "50000/50000 [==============================] - 5s 96us/step - loss: 1.2890 - accuracy: 0.5472 - val_loss: 1.5136 - val_accuracy: 0.4673\n",
      "Epoch 30/35\n",
      "50000/50000 [==============================] - 5s 99us/step - loss: 1.2757 - accuracy: 0.5526 - val_loss: 1.5050 - val_accuracy: 0.4656\n",
      "Epoch 31/35\n",
      "50000/50000 [==============================] - 4s 86us/step - loss: 1.2690 - accuracy: 0.5546 - val_loss: 1.5016 - val_accuracy: 0.4723\n",
      "Epoch 32/35\n",
      "50000/50000 [==============================] - 5s 94us/step - loss: 1.2603 - accuracy: 0.5565 - val_loss: 1.5075 - val_accuracy: 0.4707\n",
      "Epoch 33/35\n",
      "50000/50000 [==============================] - 8s 159us/step - loss: 1.2509 - accuracy: 0.5592 - val_loss: 1.4960 - val_accuracy: 0.4758\n",
      "Epoch 34/35\n",
      "50000/50000 [==============================] - 5s 102us/step - loss: 1.2403 - accuracy: 0.5635 - val_loss: 1.4993 - val_accuracy: 0.4735\n",
      "Epoch 35/35\n",
      "50000/50000 [==============================] - 4s 87us/step - loss: 1.2320 - accuracy: 0.5656 - val_loss: 1.4982 - val_accuracy: 0.4738\n"
     ]
    }
   ],
   "source": [
    "# 載入 Callbacks\n",
    "\"\"\"Code Here\n",
    "設定 callbacks: model checkpoint\n",
    "\"\"\"\n",
    "from keras.callbacks import ModelCheckpoint\n",
    "model_ckpt = ModelCheckpoint(filepath=\"./Day086_model_2.h5\",\n",
    "                             monitor=\"val_loss\",\n",
    "                             save_best_only=False)\n",
    "\n",
    "\"\"\"Code Here\n",
    "撰寫你的訓練流程並將結果用 dictionary 紀錄\n",
    "\"\"\"\n",
    "exp_name_tag = \"exp-SaveBestOnly_False\"\n",
    "keras.backend.clear_session() # 把舊的 Graph 清掉    \n",
    "print(\"#\"*40)\n",
    "print(\"Experiment with %s\" %(exp_name_tag))\n",
    "print(\"#\"*40)\n",
    "model = build_mlp(input_shape=x_train.shape[1:])\n",
    "model.summary()\n",
    "opt = keras.optimizers.SGD(lr=LEARNING_RATE, nesterov=True, momentum=MOMENTUM)\n",
    "model.compile(loss=\"categorical_crossentropy\", metrics=[\"accuracy\"], optimizer=opt)\n",
    "\n",
    "model.fit(x_train, y_train, \n",
    "          epochs=EPOCHS, \n",
    "          batch_size=BATCH_SIZE, \n",
    "          validation_data=(x_test, y_test), \n",
    "          shuffle=True,\n",
    "          callbacks=[model_ckpt]\n",
    "         )\n",
    "\n",
    "# Collect results\n",
    "train_loss = model.history.history[\"loss\"]\n",
    "valid_loss = model.history.history[\"val_loss\"]\n",
    "train_acc = model.history.history[\"accuracy\"]\n",
    "valid_acc = model.history.history[\"val_accuracy\"]\n",
    "                             \n",
    "\n",
    "results[exp_name_tag] = {'train-loss': train_loss,\n",
    "                         'valid-loss': valid_loss,\n",
    "                         'train-acc': train_acc,\n",
    "                         'valid-acc': valid_acc}"
   ]
  },
  {
   "cell_type": "code",
   "execution_count": 11,
   "metadata": {
    "scrolled": false
   },
   "outputs": [
    {
     "data": {
      "image/png": "[encoded data removed]",
      "text/plain": [
       "<Figure size 576x432 with 1 Axes>"
      ]
     },
     "metadata": {
      "needs_background": "light"
     },
     "output_type": "display_data"
    },
    {
     "data": {
      "image/png": "[encoded data removed]",
      "text/plain": [
       "<Figure size 576x432 with 1 Axes>"
      ]
     },
     "metadata": {
      "needs_background": "light"
     },
     "output_type": "display_data"
    }
   ],
   "source": [
    "import matplotlib.pyplot as plt\n",
    "%matplotlib inline\n",
    "\n",
    "\"\"\"Code Here\n",
    "將結果繪出\n",
    "\"\"\"\n",
    "color_bar = [\"r\", \"g\", \"b\", \"y\", \"m\", \"c\", \"xkcd:pale violet\", \"tab:orange\",\"k\"]\n",
    "cond = exp_name_tag\n",
    "\n",
    "plt.figure(figsize=(8,6))\n",
    "plt.plot(range(len(results[cond]['train-loss'])),results[cond]['train-loss'], '-', label=cond, color=color_bar[0])\n",
    "plt.plot(range(len(results[cond]['valid-loss'])),results[cond]['valid-loss'], '--', label=cond, color=color_bar[1])\n",
    "plt.title(\"Loss\")\n",
    "plt.ylim([0, 5])\n",
    "plt.legend()\n",
    "plt.show()\n",
    "\n",
    "plt.figure(figsize=(8,6))\n",
    "plt.plot(range(len(results[cond]['train-acc'])),results[cond]['train-acc'], '-', label=cond, color=color_bar[0])\n",
    "plt.plot(range(len(results[cond]['valid-acc'])),results[cond]['valid-acc'], '--', label=cond, color=color_bar[1])\n",
    "plt.title(\"Accuracy\")\n",
    "plt.legend()\n",
    "plt.show()"
   ]
  },
  {
   "cell_type": "markdown",
   "metadata": {},
   "source": [
    "# save_best_only=True   &   save_weights_only=True"
   ]
  },
  {
   "cell_type": "code",
   "execution_count": 13,
   "metadata": {},
   "outputs": [
    {
     "name": "stdout",
     "output_type": "stream",
     "text": [
      "########################################\n",
      "Experiment with exp-SaveBestOnly-SaveWeightsOnly\n",
      "########################################\n",
      "Model: \"model_1\"\n",
      "_________________________________________________________________\n",
      "Layer (type)                 Output Shape              Param #   \n",
      "=================================================================\n",
      "input_1 (InputLayer)         (None, 3072)              0         \n",
      "_________________________________________________________________\n",
      "hidden_layer1 (Dense)        (None, 128)               393344    \n",
      "_________________________________________________________________\n",
      "batch_normalization_1 (Batch (None, 128)               512       \n",
      "_________________________________________________________________\n",
      "hidden_layer2 (Dense)        (None, 64)                8256      \n",
      "_________________________________________________________________\n",
      "batch_normalization_2 (Batch (None, 64)                256       \n",
      "_________________________________________________________________\n",
      "hidden_layer3 (Dense)        (None, 32)                2080      \n",
      "_________________________________________________________________\n",
      "batch_normalization_3 (Batch (None, 32)                128       \n",
      "_________________________________________________________________\n",
      "output_layer (Dense)         (None, 10)                330       \n",
      "=================================================================\n",
      "Total params: 404,906\n",
      "Trainable params: 404,458\n",
      "Non-trainable params: 448\n",
      "_________________________________________________________________\n",
      "Train on 50000 samples, validate on 10000 samples\n",
      "Epoch 1/35\n",
      "50000/50000 [==============================] - 7s 147us/step - loss: 2.2728 - accuracy: 0.2318 - val_loss: 2.2230 - val_accuracy: 0.1552\n",
      "Epoch 2/35\n",
      "50000/50000 [==============================] - 4s 86us/step - loss: 1.8756 - accuracy: 0.3396 - val_loss: 2.0319 - val_accuracy: 0.2580\n",
      "Epoch 3/35\n",
      "50000/50000 [==============================] - 4s 85us/step - loss: 1.7696 - accuracy: 0.3751 - val_loss: 1.8923 - val_accuracy: 0.3252\n",
      "Epoch 4/35\n",
      "50000/50000 [==============================] - 4s 85us/step - loss: 1.7091 - accuracy: 0.3953 - val_loss: 1.7936 - val_accuracy: 0.3706\n",
      "Epoch 5/35\n",
      "50000/50000 [==============================] - 4s 84us/step - loss: 1.6656 - accuracy: 0.4124 - val_loss: 1.7446 - val_accuracy: 0.3918\n",
      "Epoch 6/35\n",
      "50000/50000 [==============================] - 5s 102us/step - loss: 1.6315 - accuracy: 0.4252 - val_loss: 1.6865 - val_accuracy: 0.4133\n",
      "Epoch 7/35\n",
      "50000/50000 [==============================] - 5s 96us/step - loss: 1.6015 - accuracy: 0.4336 - val_loss: 1.6617 - val_accuracy: 0.4143\n",
      "Epoch 8/35\n",
      "50000/50000 [==============================] - 4s 88us/step - loss: 1.5751 - accuracy: 0.4442 - val_loss: 1.6254 - val_accuracy: 0.4300\n",
      "Epoch 9/35\n",
      "50000/50000 [==============================] - 5s 98us/step - loss: 1.5525 - accuracy: 0.4515 - val_loss: 1.6184 - val_accuracy: 0.4278\n",
      "Epoch 10/35\n",
      "50000/50000 [==============================] - 4s 83us/step - loss: 1.5320 - accuracy: 0.4598 - val_loss: 1.5930 - val_accuracy: 0.4381\n",
      "Epoch 11/35\n",
      "50000/50000 [==============================] - 4s 85us/step - loss: 1.5108 - accuracy: 0.4675 - val_loss: 1.5852 - val_accuracy: 0.4400\n",
      "Epoch 12/35\n",
      "50000/50000 [==============================] - 4s 84us/step - loss: 1.4923 - accuracy: 0.4754 - val_loss: 1.5790 - val_accuracy: 0.4438\n",
      "Epoch 13/35\n",
      "50000/50000 [==============================] - 4s 81us/step - loss: 1.4768 - accuracy: 0.4795 - val_loss: 1.5597 - val_accuracy: 0.4479\n",
      "Epoch 14/35\n",
      "50000/50000 [==============================] - 4s 84us/step - loss: 1.4609 - accuracy: 0.4851 - val_loss: 1.5857 - val_accuracy: 0.4380\n",
      "Epoch 15/35\n",
      "50000/50000 [==============================] - 5s 91us/step - loss: 1.4460 - accuracy: 0.4914 - val_loss: 1.5439 - val_accuracy: 0.4573\n",
      "Epoch 16/35\n",
      "50000/50000 [==============================] - 5s 96us/step - loss: 1.4305 - accuracy: 0.4959 - val_loss: 1.5472 - val_accuracy: 0.4518\n",
      "Epoch 17/35\n",
      "50000/50000 [==============================] - 4s 83us/step - loss: 1.4155 - accuracy: 0.5022 - val_loss: 1.5331 - val_accuracy: 0.4595\n",
      "Epoch 18/35\n",
      "50000/50000 [==============================] - 4s 88us/step - loss: 1.4052 - accuracy: 0.5050 - val_loss: 1.5241 - val_accuracy: 0.4589\n",
      "Epoch 19/35\n",
      "50000/50000 [==============================] - 4s 83us/step - loss: 1.3915 - accuracy: 0.5102 - val_loss: 1.5162 - val_accuracy: 0.4614\n",
      "Epoch 20/35\n",
      "50000/50000 [==============================] - 4s 82us/step - loss: 1.3781 - accuracy: 0.5154 - val_loss: 1.5091 - val_accuracy: 0.4670\n",
      "Epoch 21/35\n",
      "50000/50000 [==============================] - 4s 83us/step - loss: 1.3678 - accuracy: 0.5182 - val_loss: 1.5086 - val_accuracy: 0.4701\n",
      "Epoch 22/35\n",
      "50000/50000 [==============================] - 4s 88us/step - loss: 1.3548 - accuracy: 0.5226 - val_loss: 1.5081 - val_accuracy: 0.4687\n",
      "Epoch 23/35\n",
      "50000/50000 [==============================] - 4s 89us/step - loss: 1.3428 - accuracy: 0.5267 - val_loss: 1.5154 - val_accuracy: 0.4658\n",
      "Epoch 24/35\n",
      "50000/50000 [==============================] - 4s 83us/step - loss: 1.3324 - accuracy: 0.5300 - val_loss: 1.4947 - val_accuracy: 0.4739\n",
      "Epoch 25/35\n",
      "50000/50000 [==============================] - 4s 84us/step - loss: 1.3223 - accuracy: 0.5354 - val_loss: 1.4907 - val_accuracy: 0.4771\n",
      "Epoch 26/35\n",
      "50000/50000 [==============================] - 4s 84us/step - loss: 1.3120 - accuracy: 0.5381 - val_loss: 1.5034 - val_accuracy: 0.4702\n",
      "Epoch 27/35\n",
      "50000/50000 [==============================] - 4s 84us/step - loss: 1.3024 - accuracy: 0.5428 - val_loss: 1.5022 - val_accuracy: 0.4708\n",
      "Epoch 28/35\n",
      "50000/50000 [==============================] - 4s 85us/step - loss: 1.2913 - accuracy: 0.5471 - val_loss: 1.4922 - val_accuracy: 0.4719\n",
      "Epoch 29/35\n",
      "50000/50000 [==============================] - 4s 86us/step - loss: 1.2817 - accuracy: 0.5497 - val_loss: 1.4907 - val_accuracy: 0.4765\n",
      "Epoch 30/35\n",
      "50000/50000 [==============================] - 4s 90us/step - loss: 1.2712 - accuracy: 0.5532 - val_loss: 1.5094 - val_accuracy: 0.4716\n",
      "Epoch 31/35\n",
      "50000/50000 [==============================] - 4s 88us/step - loss: 1.2614 - accuracy: 0.5567 - val_loss: 1.4858 - val_accuracy: 0.4760\n",
      "Epoch 32/35\n",
      "50000/50000 [==============================] - 7s 131us/step - loss: 1.2503 - accuracy: 0.5601 - val_loss: 1.4794 - val_accuracy: 0.4822\n",
      "Epoch 33/35\n",
      "50000/50000 [==============================] - 5s 96us/step - loss: 1.2413 - accuracy: 0.5643 - val_loss: 1.4856 - val_accuracy: 0.4800\n",
      "Epoch 34/35\n",
      "50000/50000 [==============================] - 4s 88us/step - loss: 1.2315 - accuracy: 0.5670 - val_loss: 1.4920 - val_accuracy: 0.4778\n",
      "Epoch 35/35\n",
      "50000/50000 [==============================] - 4s 86us/step - loss: 1.2225 - accuracy: 0.5711 - val_loss: 1.4882 - val_accuracy: 0.4768\n"
     ]
    }
   ],
   "source": [
    "# 載入 Callbacks\n",
    "\"\"\"Code Here\n",
    "設定 callbacks: model checkpoint\n",
    "\"\"\"\n",
    "from keras.callbacks import ModelCheckpoint\n",
    "model_ckpt = ModelCheckpoint(filepath=\"./Day086_model_3.h5\",\n",
    "                             monitor=\"val_loss\",\n",
    "                             save_best_only=True,\n",
    "                             save_weights_only=True)\n",
    "\n",
    "\"\"\"Code Here\n",
    "撰寫你的訓練流程並將結果用 dictionary 紀錄\n",
    "\"\"\"\n",
    "exp_name_tag = \"exp-SaveBestOnly-SaveWeightsOnly\"\n",
    "keras.backend.clear_session() # 把舊的 Graph 清掉    \n",
    "print(\"#\"*40)\n",
    "print(\"Experiment with %s\" %(exp_name_tag))\n",
    "print(\"#\"*40)\n",
    "model = build_mlp(input_shape=x_train.shape[1:])\n",
    "model.summary()\n",
    "opt = keras.optimizers.SGD(lr=LEARNING_RATE, nesterov=True, momentum=MOMENTUM)\n",
    "model.compile(loss=\"categorical_crossentropy\", metrics=[\"accuracy\"], optimizer=opt)\n",
    "\n",
    "model.fit(x_train, y_train, \n",
    "          epochs=EPOCHS, \n",
    "          batch_size=BATCH_SIZE, \n",
    "          validation_data=(x_test, y_test), \n",
    "          shuffle=True,\n",
    "          callbacks=[model_ckpt]\n",
    "         )\n",
    "\n",
    "# Collect results\n",
    "train_loss = model.history.history[\"loss\"]\n",
    "valid_loss = model.history.history[\"val_loss\"]\n",
    "train_acc = model.history.history[\"accuracy\"]\n",
    "valid_acc = model.history.history[\"val_accuracy\"]\n",
    "                             \n",
    "\n",
    "results[exp_name_tag] = {'train-loss': train_loss,\n",
    "                         'valid-loss': valid_loss,\n",
    "                         'train-acc': train_acc,\n",
    "                         'valid-acc': valid_acc}"
   ]
  },
  {
   "cell_type": "code",
   "execution_count": 14,
   "metadata": {
    "scrolled": true
   },
   "outputs": [
    {
     "data": {
      "image/png": "[encoded data removed]",
      "text/plain": [
       "<Figure size 576x432 with 1 Axes>"
      ]
     },
     "metadata": {
      "needs_background": "light"
     },
     "output_type": "display_data"
    },
    {
     "data": {
      "image/png": "[encoded data removed]",
      "text/plain": [
       "<Figure size 576x432 with 1 Axes>"
      ]
     },
     "metadata": {
      "needs_background": "light"
     },
     "output_type": "display_data"
    }
   ],
   "source": [
    "import matplotlib.pyplot as plt\n",
    "%matplotlib inline\n",
    "\n",
    "\"\"\"Code Here\n",
    "將結果繪出\n",
    "\"\"\"\n",
    "color_bar = [\"r\", \"g\", \"b\", \"y\", \"m\", \"c\", \"xkcd:pale violet\", \"tab:orange\",\"k\"]\n",
    "cond = exp_name_tag\n",
    "\n",
    "plt.figure(figsize=(8,6))\n",
    "plt.plot(range(len(results[cond]['train-loss'])),results[cond]['train-loss'], '-', label=cond, color=color_bar[0])\n",
    "plt.plot(range(len(results[cond]['valid-loss'])),results[cond]['valid-loss'], '--', label=cond, color=color_bar[1])\n",
    "plt.title(\"Loss\")\n",
    "plt.ylim([0, 5])\n",
    "plt.legend()\n",
    "plt.show()\n",
    "\n",
    "plt.figure(figsize=(8,6))\n",
    "plt.plot(range(len(results[cond]['train-acc'])),results[cond]['train-acc'], '-', label=cond, color=color_bar[0])\n",
    "plt.plot(range(len(results[cond]['valid-acc'])),results[cond]['valid-acc'], '--', label=cond, color=color_bar[1])\n",
    "plt.title(\"Accuracy\")\n",
    "plt.legend()\n",
    "plt.show()"
   ]
  },
  {
   "cell_type": "markdown",
   "metadata": {},
   "source": [
    "# Reset Kernel\n",
    "- 從檔案「Day086_model_3.h5」讀取權重\n",
    "- 預測x_test的結果"
   ]
  },
  {
   "cell_type": "code",
   "execution_count": 1,
   "metadata": {},
   "outputs": [
    {
     "name": "stderr",
     "output_type": "stream",
     "text": [
      "Using TensorFlow backend.\n"
     ]
    }
   ],
   "source": [
    "import os\n",
    "import keras"
   ]
  },
  {
   "cell_type": "code",
   "execution_count": 2,
   "metadata": {},
   "outputs": [],
   "source": [
    "train, test = keras.datasets.cifar10.load_data()"
   ]
  },
  {
   "cell_type": "code",
   "execution_count": 3,
   "metadata": {},
   "outputs": [],
   "source": [
    "## 資料前處理\n",
    "def preproc_x(x, flatten=True):\n",
    "    x = x / 255.\n",
    "    if flatten:\n",
    "        x = x.reshape((len(x), -1))\n",
    "    return x\n",
    "\n",
    "def preproc_y(y, num_classes=10):\n",
    "    if y.shape[-1] == 1:\n",
    "        y = keras.utils.to_categorical(y, num_classes)\n",
    "    return y    "
   ]
  },
  {
   "cell_type": "code",
   "execution_count": 4,
   "metadata": {},
   "outputs": [],
   "source": [
    "x_train, y_train = train\n",
    "x_test, y_test = test\n",
    "\n",
    "# Preproc the inputs\n",
    "x_train = preproc_x(x_train)\n",
    "x_test = preproc_x(x_test)\n",
    "\n",
    "# Preprc the outputs\n",
    "y_train = preproc_y(y_train)\n",
    "y_test = preproc_y(y_test)"
   ]
  },
  {
   "cell_type": "code",
   "execution_count": 5,
   "metadata": {},
   "outputs": [],
   "source": [
    "from keras.layers import BatchNormalization\n",
    "\n",
    "\"\"\"\n",
    "建立神經網路，並加入 BN layer\n",
    "\"\"\"\n",
    "def build_mlp(input_shape, output_units=10, num_neurons=[128, 64, 32]):\n",
    "    input_layer = keras.layers.Input(input_shape)\n",
    "    \n",
    "    for i, n_units in enumerate(num_neurons):\n",
    "        if i == 0:\n",
    "            x = keras.layers.Dense(units=n_units, \n",
    "                                   activation=\"relu\", \n",
    "                                   name=\"hidden_layer\"+str(i+1))(input_layer)\n",
    "            x = BatchNormalization()(x)\n",
    "        else:\n",
    "            x = keras.layers.Dense(units=n_units, \n",
    "                                   activation=\"relu\", \n",
    "                                   name=\"hidden_layer\"+str(i+1))(x)\n",
    "            x = BatchNormalization()(x)\n",
    "    \n",
    "    output_layer = keras.layers.Dense(units=output_units, activation=\"softmax\", name=\"output_layer\")(x)\n",
    "    \n",
    "    model = keras.models.Model(inputs=[input_layer], outputs=[output_layer])\n",
    "    return model"
   ]
  },
  {
   "cell_type": "code",
   "execution_count": 6,
   "metadata": {},
   "outputs": [],
   "source": [
    "\"\"\"Code Here\n",
    "設定超參數\n",
    "\"\"\"\n",
    "LEARNING_RATE = 1e-3\n",
    "EPOCHS = 35\n",
    "BATCH_SIZE = 1024\n",
    "MOMENTUM = 0.95"
   ]
  },
  {
   "cell_type": "code",
   "execution_count": 7,
   "metadata": {},
   "outputs": [],
   "source": [
    "model = build_mlp(input_shape=x_train.shape[1:])\n",
    "model.load_weights(\"./Day086_model_3.h5\")"
   ]
  },
  {
   "cell_type": "code",
   "execution_count": 8,
   "metadata": {},
   "outputs": [],
   "source": [
    "opt = keras.optimizers.SGD(lr=LEARNING_RATE, nesterov=True, momentum=MOMENTUM)\n",
    "model.compile(loss=\"categorical_crossentropy\", metrics=[\"accuracy\"], optimizer=opt)"
   ]
  },
  {
   "cell_type": "code",
   "execution_count": 9,
   "metadata": {},
   "outputs": [
    {
     "data": {
      "text/plain": [
       "array([[0.01892458, 0.03237288, 0.07021049, ..., 0.00422093, 0.09382474,\n",
       "        0.00101704],\n",
       "       [0.02623618, 0.480273  , 0.00166191, ..., 0.00615506, 0.28965998,\n",
       "        0.18656968],\n",
       "       [0.51787376, 0.14436886, 0.01866962, ..., 0.00575144, 0.18351237,\n",
       "        0.11791561],\n",
       "       ...,\n",
       "       [0.00157936, 0.00179121, 0.20165335, ..., 0.00998575, 0.01014152,\n",
       "        0.00106954],\n",
       "       [0.01643257, 0.06596961, 0.33526266, ..., 0.05750716, 0.01003001,\n",
       "        0.07692509],\n",
       "       [0.01331135, 0.00166804, 0.06613493, ..., 0.3524387 , 0.01033498,\n",
       "        0.00238155]], dtype=float32)"
      ]
     },
     "execution_count": 9,
     "metadata": {},
     "output_type": "execute_result"
    }
   ],
   "source": [
    "model.predict(x_test)"
   ]
  }
 ],
 "metadata": {
  "kernelspec": {
   "display_name": "Python 3",
   "language": "python",
   "name": "python3"
  },
  "language_info": {
   "codemirror_mode": {
    "name": "ipython",
    "version": 3
   },
   "file_extension": ".py",
   "mimetype": "text/x-python",
   "name": "python",
   "nbconvert_exporter": "python",
   "pygments_lexer": "ipython3",
   "version": "3.7.3"
  }
 },
 "nbformat": 4,
 "nbformat_minor": 2
}
