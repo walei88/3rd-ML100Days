{
 "cells": [
  {
   "cell_type": "markdown",
   "metadata": {},
   "source": [
    "## [作業重點]\n",
    "使用 Sklearn 中的 Lasso, Ridge 模型，來訓練各種資料集，務必了解送進去模型訓練的**資料型態**為何，也請了解模型中各項參數的意義。\n",
    "\n",
    "機器學習的模型非常多種，但要訓練的資料多半有固定的格式，確保你了解訓練資料的格式為何，這樣在應用新模型時，就能夠最快的上手開始訓練！"
   ]
  },
  {
   "cell_type": "markdown",
   "metadata": {},
   "source": [
    "## 練習時間\n",
    "試著使用 sklearn datasets 的其他資料集 (boston, ...)，來訓練自己的線性迴歸模型，並加上適當的正則化來觀察訓練情形。"
   ]
  },
  {
   "cell_type": "code",
   "execution_count": 1,
   "metadata": {},
   "outputs": [],
   "source": [
    "import numpy as np\n",
    "import matplotlib.pyplot as plt\n",
    "from sklearn import datasets, linear_model\n",
    "from sklearn.model_selection import train_test_split\n",
    "from sklearn.metrics import mean_squared_error, r2_score, accuracy_score"
   ]
  },
  {
   "cell_type": "markdown",
   "metadata": {},
   "source": [
    "# boston的資料集："
   ]
  },
  {
   "cell_type": "code",
   "execution_count": 2,
   "metadata": {},
   "outputs": [],
   "source": [
    "boston = datasets.load_boston()\n",
    "\n",
    "# 將數據分成「訓練集」與「測試集」\n",
    "train_X, test_X, train_y, test_y = train_test_split(boston.data, boston.target, test_size=0.2, random_state=4)\n",
    "\n",
    "# 根據boston.target的數據，判斷適合使用回歸模型進行分析"
   ]
  },
  {
   "cell_type": "code",
   "execution_count": 3,
   "metadata": {},
   "outputs": [
    {
     "name": "stdout",
     "output_type": "stream",
     "text": [
      "[-1.15966452e-01  4.71249231e-02  8.25980146e-03  3.23404531e+00\n",
      " -1.66865890e+01  3.88410651e+00 -1.08974442e-02 -1.54129540e+00\n",
      "  2.93208309e-01 -1.34059383e-02 -9.06296429e-01  8.80823439e-03\n",
      " -4.57723846e-01]\n",
      "--------------------\n",
      "Mean squared error: 25.42\n"
     ]
    }
   ],
   "source": [
    "line_regr = linear_model.LinearRegression()\n",
    "line_regr.fit(train_X, train_y)\n",
    "pred =  line_regr.predict(test_X)\n",
    "\n",
    "print(line_regr.coef_)\n",
    "print('-'*20)\n",
    "print(\"Mean squared error: %.2f\" %(mean_squared_error(test_y, pred)))"
   ]
  },
  {
   "cell_type": "code",
   "execution_count": 4,
   "metadata": {},
   "outputs": [
    {
     "name": "stdout",
     "output_type": "stream",
     "text": [
      "[-0.06494981  0.04581458 -0.          0.         -0.          1.18140024\n",
      "  0.01109101 -0.73695809  0.23350042 -0.01551065 -0.69270805  0.00763157\n",
      " -0.6927848 ]\n",
      "--------------------\n",
      "Mean squared error: 28.95\n"
     ]
    }
   ],
   "source": [
    "Lasso = linear_model.Lasso(alpha=1.0)\n",
    "Lasso.fit(train_X, train_y)\n",
    "pred = Lasso.predict(test_X)\n",
    "\n",
    "print(Lasso.coef_)\n",
    "print('-'*20)\n",
    "print(\"Mean squared error: %.2f\" %(mean_squared_error(test_y, pred)))"
   ]
  },
  {
   "cell_type": "code",
   "execution_count": 5,
   "metadata": {},
   "outputs": [
    {
     "name": "stdout",
     "output_type": "stream",
     "text": [
      "[-1.12499445e-01  4.79562332e-02 -2.40438147e-02  2.96199458e+00\n",
      " -9.33966118e+00  3.93079015e+00 -1.73821202e-02 -1.43347691e+00\n",
      "  2.75239392e-01 -1.38920708e-02 -8.31116943e-01  9.15637729e-03\n",
      " -4.66460539e-01]\n",
      "--------------------\n",
      "Mean squared error: 25.74\n"
     ]
    }
   ],
   "source": [
    "Ridge = linear_model.Ridge(alpha=1.0)\n",
    "Ridge.fit(train_X, train_y)\n",
    "pred = Ridge.predict(test_X)\n",
    "\n",
    "print(Ridge.coef_)\n",
    "print('-'*20)\n",
    "print(\"Mean squared error: %.2f\" %(mean_squared_error(test_y, pred)))"
   ]
  },
  {
   "cell_type": "markdown",
   "metadata": {},
   "source": [
    "# wine的資料集："
   ]
  },
  {
   "cell_type": "code",
   "execution_count": 6,
   "metadata": {},
   "outputs": [],
   "source": [
    "wine = datasets.load_wine()\n",
    "\n",
    "# 將數據分成「訓練集」與「測試集」\n",
    "train_X, test_X, train_y, test_y = train_test_split(wine.data, wine.target, test_size=0.2, random_state=4)\n",
    "\n",
    "# 根據wine.target的數據，判斷適合使用分類模型進行分析"
   ]
  },
  {
   "cell_type": "code",
   "execution_count": 7,
   "metadata": {},
   "outputs": [
    {
     "name": "stdout",
     "output_type": "stream",
     "text": [
      "Accuracy=0.97\n",
      "--------------------\n",
      "Mean squared error: 0.03\n"
     ]
    }
   ],
   "source": [
    "Logi_regr = linear_model.LogisticRegression(solver='lbfgs', multi_class='auto', max_iter=4000)\n",
    "Logi_regr.fit(train_X, train_y)\n",
    "pred = Logi_regr.predict(test_X)\n",
    "\n",
    "print('Accuracy=%.2f' %(accuracy_score(test_y, pred)))\n",
    "print('-'*20)\n",
    "print(\"Mean squared error: %.2f\" %(mean_squared_error(test_y, pred)))"
   ]
  },
  {
   "cell_type": "code",
   "execution_count": 8,
   "metadata": {
    "scrolled": true
   },
   "outputs": [
    {
     "name": "stdout",
     "output_type": "stream",
     "text": [
      "[ 0.          0.          0.          0.          0.         -0.\n",
      " -0.          0.         -0.          0.         -0.         -0.\n",
      " -0.00159714]\n",
      "--------------------\n",
      "Mean squared error: 0.42\n"
     ]
    }
   ],
   "source": [
    "Lasso.fit(train_X, train_y)\n",
    "pred = Lasso.predict(test_X)\n",
    "\n",
    "print(Lasso.coef_)\n",
    "print('-'*20)\n",
    "print(\"Mean squared error: %.2f\" %(mean_squared_error(test_y, pred)))"
   ]
  },
  {
   "cell_type": "code",
   "execution_count": 9,
   "metadata": {
    "scrolled": false
   },
   "outputs": [
    {
     "name": "stdout",
     "output_type": "stream",
     "text": [
      "[-0.1060308   0.01767173 -0.20185208  0.04519307  0.00041456  0.09901609\n",
      " -0.31237143 -0.1038379   0.03489971  0.07770768 -0.13450626 -0.27442063\n",
      " -0.00077001]\n",
      "--------------------\n",
      "Mean squared error: 0.07\n"
     ]
    }
   ],
   "source": [
    "Ridge.fit(train_X, train_y)\n",
    "pred = Ridge.predict(test_X)\n",
    "\n",
    "print(Ridge.coef_)\n",
    "print('-'*20)\n",
    "print(\"Mean squared error: %.2f\" %(mean_squared_error(test_y, pred)))"
   ]
  }
 ],
 "metadata": {
  "kernelspec": {
   "display_name": "Python 3",
   "language": "python",
   "name": "python3"
  },
  "language_info": {
   "codemirror_mode": {
    "name": "ipython",
    "version": 3
   },
   "file_extension": ".py",
   "mimetype": "text/x-python",
   "name": "python",
   "nbconvert_exporter": "python",
   "pygments_lexer": "ipython3",
   "version": "3.7.3"
  }
 },
 "nbformat": 4,
 "nbformat_minor": 2
}
