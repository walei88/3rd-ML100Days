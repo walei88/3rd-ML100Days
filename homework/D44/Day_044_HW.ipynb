{
 "cells": [
  {
   "cell_type": "markdown",
   "metadata": {},
   "source": [
    "## [作業重點]\n",
    "確保你了解隨機森林模型中每個超參數的意義，並觀察調整超參數對結果的影響"
   ]
  },
  {
   "cell_type": "markdown",
   "metadata": {},
   "source": [
    "## 作業\n",
    "\n",
    "1. 試著調整 RandomForestClassifier(...) 中的參數，並觀察是否會改變結果？\n",
    "2. 改用其他資料集 (boston, wine)，並與回歸模型與決策樹的結果進行比較"
   ]
  },
  {
   "cell_type": "code",
   "execution_count": 1,
   "metadata": {},
   "outputs": [],
   "source": [
    "import numpy as np\n",
    "import pandas as pd\n",
    "from sklearn import datasets, metrics\n",
    "from sklearn.ensemble import RandomForestClassifier, RandomForestRegressor\n",
    "from sklearn.model_selection import train_test_split"
   ]
  },
  {
   "cell_type": "code",
   "execution_count": 2,
   "metadata": {},
   "outputs": [
    {
     "name": "stdout",
     "output_type": "stream",
     "text": [
      "Accuracy=0.9474\n"
     ]
    }
   ],
   "source": [
    "# 導入數據\n",
    "iris = datasets.load_iris()\n",
    "\n",
    "# 拆分數據\n",
    "train_X, test_X, train_y, test_y = train_test_split(iris.data, iris.target, test_size=0.25, random_state=4)\n",
    "\n",
    "# 建立模型\n",
    "clf = RandomForestClassifier(n_estimators=10, max_depth=4, criterion=\"gini\")\n",
    "\n",
    "# 擬合數據\n",
    "clf.fit(train_X, train_y)\n",
    "\n",
    "# 預測數據\n",
    "pred = clf.predict(test_X)\n",
    "\n",
    "acc = metrics.accuracy_score(test_y, pred)\n",
    "print('Accuracy=%.4f' %(acc))"
   ]
  },
  {
   "cell_type": "code",
   "execution_count": 3,
   "metadata": {},
   "outputs": [],
   "source": [
    "from sklearn import linear_model"
   ]
  },
  {
   "cell_type": "markdown",
   "metadata": {},
   "source": [
    "### 2-1. boston數據集"
   ]
  },
  {
   "cell_type": "code",
   "execution_count": 4,
   "metadata": {},
   "outputs": [
    {
     "name": "stdout",
     "output_type": "stream",
     "text": [
      "Linear Regression：\n",
      "Mean Squared Error=26.9514\n",
      "\n",
      "====================\n",
      "RandomForestRegressor：\n",
      "Mean Squared Error=15.6558\n"
     ]
    }
   ],
   "source": [
    "# 導入數據\n",
    "boston = datasets.load_boston()\n",
    "\n",
    "# 拆分數據\n",
    "train_X, test_X, train_y, test_y = train_test_split(boston.data, boston.target, test_size=0.25, random_state=4)\n",
    "\n",
    "# 使用迴歸模型\n",
    "lin_regr = linear_model.LinearRegression()\n",
    "\n",
    "# 擬合數據\n",
    "lin_regr.fit(train_X, train_y)\n",
    "\n",
    "# 預測測試數據\n",
    "pred = lin_regr.predict(test_X)\n",
    "mse = metrics.mean_squared_error(test_y, pred)\n",
    "print('Linear Regression：')\n",
    "print('Mean Squared Error=%.4f' %(mse))\n",
    "print(\"\")\n",
    "print(\"=\"*20)\n",
    "\n",
    "# 使用隨機森林模型\n",
    "clf = RandomForestRegressor(n_estimators=20, max_depth=20, criterion=\"mse\")\n",
    "\n",
    "# 擬合數據\n",
    "clf.fit(train_X, train_y)\n",
    "\n",
    "# 預測數據\n",
    "pred = clf.predict(test_X)\n",
    "\n",
    "mse = metrics.mean_squared_error(test_y, pred)\n",
    "print('RandomForestRegressor：')\n",
    "print('Mean Squared Error=%.4f' %(mse))"
   ]
  },
  {
   "cell_type": "markdown",
   "metadata": {},
   "source": [
    "### 2-1. wine數據集"
   ]
  },
  {
   "cell_type": "code",
   "execution_count": 5,
   "metadata": {},
   "outputs": [
    {
     "name": "stdout",
     "output_type": "stream",
     "text": [
      "Acuuracy:  0.9777777777777777\n",
      "====================\n",
      "Acuuracy:  0.9777777777777777\n"
     ]
    }
   ],
   "source": [
    "# 導入數據\n",
    "wine = datasets.load_wine()\n",
    "\n",
    "# 拆分數據\n",
    "train_X, test_X, train_y, test_y = train_test_split(wine.data, wine.target, test_size=0.25, random_state=4)\n",
    "\n",
    "# 使用分類模型\n",
    "log_regr = linear_model.LogisticRegression(solver='lbfgs', multi_class='auto', max_iter=4000)\n",
    "\n",
    "# 擬合數據\n",
    "log_regr.fit(train_X, train_y)\n",
    "\n",
    "# 預測測試數據\n",
    "pred = log_regr.predict(test_X)\n",
    "\n",
    "acc = metrics.accuracy_score(test_y, pred)\n",
    "print(\"Acuuracy: \", acc)\n",
    "print(\"=\"*20)\n",
    "\n",
    "\n",
    "# 使用隨機森林模型\n",
    "clf = RandomForestClassifier(n_estimators=20, max_depth=4, criterion=\"gini\")\n",
    "\n",
    "# 擬合數據\n",
    "clf.fit(train_X, train_y)\n",
    "\n",
    "# 預測數據\n",
    "clf.predict(test_X)\n",
    "acc = metrics.accuracy_score(test_y, pred)\n",
    "print(\"Acuuracy: \", acc)"
   ]
  }
 ],
 "metadata": {
  "kernelspec": {
   "display_name": "Python 3",
   "language": "python",
   "name": "python3"
  },
  "language_info": {
   "codemirror_mode": {
    "name": "ipython",
    "version": 3
   },
   "file_extension": ".py",
   "mimetype": "text/x-python",
   "name": "python",
   "nbconvert_exporter": "python",
   "pygments_lexer": "ipython3",
   "version": "3.7.3"
  }
 },
 "nbformat": 4,
 "nbformat_minor": 2
}
