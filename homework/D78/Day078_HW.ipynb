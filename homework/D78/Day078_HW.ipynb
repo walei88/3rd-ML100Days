{
 "cells": [
  {
   "cell_type": "markdown",
   "metadata": {},
   "source": [
    "## Work\n",
    "1. 請嘗試將 preproc_x 替換成以每筆資料的 min/max 進行標準化至 -1 ~ 1 間，再進行訓練\n",
    "2. 請嘗試將 mlp 疊更深 (e.g 5~10 層)，進行訓練後觀察 learning curve 的走勢\n",
    "3. (optional) 請改用 GPU 進行訓練 (如果你有 GPU 的話)，比較使用 CPU 與 GPU 的訓練速度"
   ]
  },
  {
   "cell_type": "code",
   "execution_count": 1,
   "metadata": {},
   "outputs": [
    {
     "name": "stderr",
     "output_type": "stream",
     "text": [
      "Using TensorFlow backend.\n"
     ]
    }
   ],
   "source": [
    "import os\n",
    "import keras"
   ]
  },
  {
   "cell_type": "code",
   "execution_count": 2,
   "metadata": {},
   "outputs": [],
   "source": [
    "train, test = keras.datasets.cifar10.load_data()"
   ]
  },
  {
   "cell_type": "code",
   "execution_count": 3,
   "metadata": {},
   "outputs": [],
   "source": [
    "## 資料前處理\n",
    "\"\"\"\n",
    "Your code here\n",
    "\"\"\"\n",
    "def preproc_x(x, flatten=True):\n",
    "    x = ((x / 255) - 0.5) * 2\n",
    "    if flatten:\n",
    "        x = x.reshape(len(x), -1)\n",
    "    return x\n",
    "\n",
    "def preproc_y(y, num_classes=10):\n",
    "    if y.shape[-1] == 1:\n",
    "        y = keras.utils.to_categorical(y, num_classes)\n",
    "    return y"
   ]
  },
  {
   "cell_type": "code",
   "execution_count": 4,
   "metadata": {},
   "outputs": [],
   "source": [
    "x_train, y_train = train\n",
    "x_test, y_test = test\n",
    "\n",
    "# Preproc the inputs\n",
    "x_train = preproc_x(x_train)\n",
    "x_test = preproc_x(x_test)\n",
    "\n",
    "# Preprc the outputs\n",
    "y_train = preproc_y(y_train)\n",
    "y_test = preproc_y(y_test)"
   ]
  },
  {
   "cell_type": "code",
   "execution_count": 5,
   "metadata": {},
   "outputs": [],
   "source": [
    "def build_mlp(input_shape, output_units=10, num_neurons=[512, 256, 128]):\n",
    "    input_layer = keras.layers.Input(input_shape)\n",
    "    \n",
    "    for i, n_units in enumerate(num_neurons):\n",
    "        if i == 0:\n",
    "            x = keras.layers.Dense(units=n_units, activation=\"relu\", name=\"hidden_layer\"+str(i+1))(input_layer)\n",
    "        else:\n",
    "            x = keras.layers.Dense(units=n_units, activation=\"relu\", name=\"hidden_layer\"+str(i+1))(x)\n",
    "    \n",
    "    out = keras.layers.Dense(units=output_units, activation=\"softmax\", name=\"output\")(x)\n",
    "    \n",
    "    model = keras.models.Model(inputs=[input_layer], outputs=[out])\n",
    "    return model"
   ]
  },
  {
   "cell_type": "code",
   "execution_count": 6,
   "metadata": {},
   "outputs": [],
   "source": [
    "\"\"\"Code Here\n",
    "建立你的神經網路\n",
    "\"\"\"\n",
    "def build_mlp(input_shape, output_units=10, num_neurons=[128, 64, 32, 16, 12]):\n",
    "    input_layer = keras.layers.Input(input_shape)\n",
    "    \n",
    "    for i, unit in enumerate(num_neurons):\n",
    "        if i == 0:\n",
    "            x = keras.layers.Dense(units=unit, activation=\"relu\", name=\"hidden_layer\"+str(i+1))(input_layer)\n",
    "        else:\n",
    "            x = keras.layers.Dense(units=unit, activation=\"relu\", name=\"hidden_layer\"+str(i+1))(x)\n",
    "    \n",
    "    out = keras.layers.Dense(units=output_units, activation=\"softmax\", name=\"output\")(x)\n",
    "    model = keras.models.Model(inputs=[input_layer], outputs=[out])\n",
    "    \n",
    "    return model"
   ]
  },
  {
   "cell_type": "code",
   "execution_count": 7,
   "metadata": {},
   "outputs": [
    {
     "name": "stdout",
     "output_type": "stream",
     "text": [
      "Model: \"model_1\"\n",
      "_________________________________________________________________\n",
      "Layer (type)                 Output Shape              Param #   \n",
      "=================================================================\n",
      "input_1 (InputLayer)         (None, 3072)              0         \n",
      "_________________________________________________________________\n",
      "hidden_layer1 (Dense)        (None, 128)               393344    \n",
      "_________________________________________________________________\n",
      "hidden_layer2 (Dense)        (None, 64)                8256      \n",
      "_________________________________________________________________\n",
      "hidden_layer3 (Dense)        (None, 32)                2080      \n",
      "_________________________________________________________________\n",
      "hidden_layer4 (Dense)        (None, 16)                528       \n",
      "_________________________________________________________________\n",
      "hidden_layer5 (Dense)        (None, 12)                204       \n",
      "_________________________________________________________________\n",
      "output (Dense)               (None, 10)                130       \n",
      "=================================================================\n",
      "Total params: 404,542\n",
      "Trainable params: 404,542\n",
      "Non-trainable params: 0\n",
      "_________________________________________________________________\n"
     ]
    }
   ],
   "source": [
    "model = build_mlp(input_shape=x_train.shape[1:])\n",
    "model.summary()"
   ]
  },
  {
   "cell_type": "code",
   "execution_count": 8,
   "metadata": {},
   "outputs": [],
   "source": [
    "## 超參數設定\n",
    "LEARNING_RATE = 0.001\n",
    "EPOCHS = 100\n",
    "BATCH_SIZE = 256"
   ]
  },
  {
   "cell_type": "code",
   "execution_count": 9,
   "metadata": {},
   "outputs": [],
   "source": [
    "optimizer = keras.optimizers.Adam(lr=LEARNING_RATE)\n",
    "model.compile(loss=\"categorical_crossentropy\", metrics=[\"accuracy\"], optimizer=optimizer)"
   ]
  },
  {
   "cell_type": "code",
   "execution_count": 10,
   "metadata": {},
   "outputs": [
    {
     "name": "stdout",
     "output_type": "stream",
     "text": [
      "Train on 50000 samples, validate on 10000 samples\n",
      "Epoch 1/100\n",
      "50000/50000 [==============================] - 7s 132us/step - loss: 1.8849 - accuracy: 0.3296 - val_loss: 1.6838 - val_accuracy: 0.4155\n",
      "Epoch 2/100\n",
      "50000/50000 [==============================] - 4s 87us/step - loss: 1.6100 - accuracy: 0.4334 - val_loss: 1.5709 - val_accuracy: 0.4503\n",
      "Epoch 3/100\n",
      "50000/50000 [==============================] - 5s 91us/step - loss: 1.5019 - accuracy: 0.4717 - val_loss: 1.5097 - val_accuracy: 0.4634\n",
      "Epoch 4/100\n",
      "50000/50000 [==============================] - 5s 109us/step - loss: 1.4194 - accuracy: 0.5009 - val_loss: 1.4680 - val_accuracy: 0.4824\n",
      "Epoch 5/100\n",
      "50000/50000 [==============================] - 5s 101us/step - loss: 1.3606 - accuracy: 0.5222 - val_loss: 1.4607 - val_accuracy: 0.4909\n",
      "Epoch 6/100\n",
      "50000/50000 [==============================] - 5s 93us/step - loss: 1.3051 - accuracy: 0.5400 - val_loss: 1.4783 - val_accuracy: 0.4776\n",
      "Epoch 7/100\n",
      "50000/50000 [==============================] - 5s 93us/step - loss: 1.2548 - accuracy: 0.5568 - val_loss: 1.4510 - val_accuracy: 0.4975\n",
      "Epoch 8/100\n",
      "50000/50000 [==============================] - 5s 93us/step - loss: 1.2114 - accuracy: 0.5715 - val_loss: 1.4191 - val_accuracy: 0.5019\n",
      "Epoch 9/100\n",
      "50000/50000 [==============================] - 5s 92us/step - loss: 1.1776 - accuracy: 0.5847 - val_loss: 1.4193 - val_accuracy: 0.5057\n",
      "Epoch 10/100\n",
      "50000/50000 [==============================] - 5s 92us/step - loss: 1.1268 - accuracy: 0.6015 - val_loss: 1.4554 - val_accuracy: 0.5080\n",
      "Epoch 11/100\n",
      "50000/50000 [==============================] - 5s 92us/step - loss: 1.0972 - accuracy: 0.6131 - val_loss: 1.4608 - val_accuracy: 0.5040\n",
      "Epoch 12/100\n",
      "50000/50000 [==============================] - 5s 92us/step - loss: 1.0666 - accuracy: 0.6237 - val_loss: 1.4696 - val_accuracy: 0.5028\n",
      "Epoch 13/100\n",
      "50000/50000 [==============================] - 5s 92us/step - loss: 1.0418 - accuracy: 0.6313 - val_loss: 1.4939 - val_accuracy: 0.5110\n",
      "Epoch 14/100\n",
      "50000/50000 [==============================] - 5s 92us/step - loss: 1.0106 - accuracy: 0.6414 - val_loss: 1.4868 - val_accuracy: 0.5053\n",
      "Epoch 15/100\n",
      "50000/50000 [==============================] - 5s 92us/step - loss: 0.9786 - accuracy: 0.6522 - val_loss: 1.5461 - val_accuracy: 0.4958\n",
      "Epoch 16/100\n",
      "50000/50000 [==============================] - 5s 99us/step - loss: 0.9468 - accuracy: 0.6651 - val_loss: 1.5298 - val_accuracy: 0.5152\n",
      "Epoch 17/100\n",
      "50000/50000 [==============================] - 5s 94us/step - loss: 0.9298 - accuracy: 0.6709 - val_loss: 1.5507 - val_accuracy: 0.5088\n",
      "Epoch 18/100\n",
      "50000/50000 [==============================] - 5s 92us/step - loss: 0.9041 - accuracy: 0.6785 - val_loss: 1.5490 - val_accuracy: 0.5097\n",
      "Epoch 19/100\n",
      "50000/50000 [==============================] - 5s 92us/step - loss: 0.8822 - accuracy: 0.6860 - val_loss: 1.6011 - val_accuracy: 0.5015\n",
      "Epoch 20/100\n",
      "50000/50000 [==============================] - 5s 92us/step - loss: 0.8576 - accuracy: 0.6961 - val_loss: 1.6190 - val_accuracy: 0.5000\n",
      "Epoch 21/100\n",
      "50000/50000 [==============================] - 5s 95us/step - loss: 0.8389 - accuracy: 0.7006 - val_loss: 1.6408 - val_accuracy: 0.5043\n",
      "Epoch 22/100\n",
      "50000/50000 [==============================] - 5s 93us/step - loss: 0.8133 - accuracy: 0.7112 - val_loss: 1.6242 - val_accuracy: 0.4977\n",
      "Epoch 23/100\n",
      "50000/50000 [==============================] - 5s 92us/step - loss: 0.7949 - accuracy: 0.7152 - val_loss: 1.6682 - val_accuracy: 0.5031\n",
      "Epoch 24/100\n",
      "50000/50000 [==============================] - 5s 92us/step - loss: 0.7788 - accuracy: 0.7218 - val_loss: 1.7221 - val_accuracy: 0.4940\n",
      "Epoch 25/100\n",
      "50000/50000 [==============================] - 5s 93us/step - loss: 0.7590 - accuracy: 0.7290 - val_loss: 1.7425 - val_accuracy: 0.4977\n",
      "Epoch 26/100\n",
      "50000/50000 [==============================] - 5s 92us/step - loss: 0.7478 - accuracy: 0.7338 - val_loss: 1.7635 - val_accuracy: 0.5068\n",
      "Epoch 27/100\n",
      "50000/50000 [==============================] - 5s 93us/step - loss: 0.7260 - accuracy: 0.7414 - val_loss: 1.8004 - val_accuracy: 0.4990\n",
      "Epoch 28/100\n",
      "50000/50000 [==============================] - 5s 92us/step - loss: 0.7110 - accuracy: 0.7470 - val_loss: 1.8498 - val_accuracy: 0.4983\n",
      "Epoch 29/100\n",
      "50000/50000 [==============================] - 5s 93us/step - loss: 0.6914 - accuracy: 0.7542 - val_loss: 1.8767 - val_accuracy: 0.4958\n",
      "Epoch 30/100\n",
      "50000/50000 [==============================] - 5s 92us/step - loss: 0.6757 - accuracy: 0.7575 - val_loss: 1.8793 - val_accuracy: 0.5002\n",
      "Epoch 31/100\n",
      "50000/50000 [==============================] - 5s 93us/step - loss: 0.6643 - accuracy: 0.7619 - val_loss: 1.9148 - val_accuracy: 0.4924\n",
      "Epoch 32/100\n",
      "50000/50000 [==============================] - 5s 93us/step - loss: 0.6485 - accuracy: 0.7693 - val_loss: 1.9592 - val_accuracy: 0.4930\n",
      "Epoch 33/100\n",
      "50000/50000 [==============================] - 5s 92us/step - loss: 0.6354 - accuracy: 0.7737 - val_loss: 1.9795 - val_accuracy: 0.4912\n",
      "Epoch 34/100\n",
      "50000/50000 [==============================] - 5s 92us/step - loss: 0.6253 - accuracy: 0.7783 - val_loss: 2.0122 - val_accuracy: 0.4960\n",
      "Epoch 35/100\n",
      "50000/50000 [==============================] - 5s 92us/step - loss: 0.6068 - accuracy: 0.7832 - val_loss: 2.1045 - val_accuracy: 0.4864\n",
      "Epoch 36/100\n",
      "50000/50000 [==============================] - 5s 93us/step - loss: 0.6000 - accuracy: 0.7857 - val_loss: 2.0978 - val_accuracy: 0.4905\n",
      "Epoch 37/100\n",
      "50000/50000 [==============================] - 5s 92us/step - loss: 0.5751 - accuracy: 0.7965 - val_loss: 2.1742 - val_accuracy: 0.4883\n",
      "Epoch 38/100\n",
      "50000/50000 [==============================] - 5s 92us/step - loss: 0.5720 - accuracy: 0.7964 - val_loss: 2.1874 - val_accuracy: 0.4975\n",
      "Epoch 39/100\n",
      "50000/50000 [==============================] - 5s 93us/step - loss: 0.5610 - accuracy: 0.8010 - val_loss: 2.1916 - val_accuracy: 0.4852\n",
      "Epoch 40/100\n",
      "50000/50000 [==============================] - 5s 97us/step - loss: 0.5495 - accuracy: 0.8048 - val_loss: 2.2557 - val_accuracy: 0.4887\n",
      "Epoch 41/100\n",
      "50000/50000 [==============================] - 5s 92us/step - loss: 0.5444 - accuracy: 0.8062 - val_loss: 2.2794 - val_accuracy: 0.4896\n",
      "Epoch 42/100\n",
      "50000/50000 [==============================] - 5s 93us/step - loss: 0.5246 - accuracy: 0.8122 - val_loss: 2.3443 - val_accuracy: 0.4884\n",
      "Epoch 43/100\n",
      "50000/50000 [==============================] - 5s 92us/step - loss: 0.5189 - accuracy: 0.8130 - val_loss: 2.3220 - val_accuracy: 0.4859\n",
      "Epoch 44/100\n",
      "50000/50000 [==============================] - 5s 92us/step - loss: 0.5094 - accuracy: 0.8186 - val_loss: 2.4093 - val_accuracy: 0.4825\n",
      "Epoch 45/100\n",
      "50000/50000 [==============================] - 5s 94us/step - loss: 0.5012 - accuracy: 0.8202 - val_loss: 2.4486 - val_accuracy: 0.4840\n",
      "Epoch 46/100\n",
      "50000/50000 [==============================] - 5s 93us/step - loss: 0.4928 - accuracy: 0.8268 - val_loss: 2.4455 - val_accuracy: 0.4851\n",
      "Epoch 47/100\n",
      "50000/50000 [==============================] - 5s 92us/step - loss: 0.4988 - accuracy: 0.8222 - val_loss: 2.5312 - val_accuracy: 0.4794\n",
      "Epoch 48/100\n",
      "50000/50000 [==============================] - 5s 92us/step - loss: 0.4746 - accuracy: 0.8305 - val_loss: 2.5399 - val_accuracy: 0.4803\n",
      "Epoch 49/100\n",
      "50000/50000 [==============================] - 5s 92us/step - loss: 0.4772 - accuracy: 0.8302 - val_loss: 2.5659 - val_accuracy: 0.4829\n",
      "Epoch 50/100\n",
      "50000/50000 [==============================] - 5s 91us/step - loss: 0.4615 - accuracy: 0.8352 - val_loss: 2.6686 - val_accuracy: 0.4784\n",
      "Epoch 51/100\n",
      "50000/50000 [==============================] - 5s 91us/step - loss: 0.4594 - accuracy: 0.8373 - val_loss: 2.6561 - val_accuracy: 0.4848\n",
      "Epoch 52/100\n",
      "50000/50000 [==============================] - 5s 98us/step - loss: 0.4450 - accuracy: 0.8406 - val_loss: 2.7104 - val_accuracy: 0.4821\n",
      "Epoch 53/100\n",
      "50000/50000 [==============================] - 5s 96us/step - loss: 0.4302 - accuracy: 0.8459 - val_loss: 2.8088 - val_accuracy: 0.4865\n",
      "Epoch 54/100\n",
      "50000/50000 [==============================] - 5s 92us/step - loss: 0.4236 - accuracy: 0.8492 - val_loss: 2.7970 - val_accuracy: 0.4805\n",
      "Epoch 55/100\n",
      "50000/50000 [==============================] - 5s 92us/step - loss: 0.4279 - accuracy: 0.8482 - val_loss: 2.8042 - val_accuracy: 0.4772\n"
     ]
    },
    {
     "name": "stdout",
     "output_type": "stream",
     "text": [
      "Epoch 56/100\n",
      "50000/50000 [==============================] - 4s 90us/step - loss: 0.4171 - accuracy: 0.8517 - val_loss: 2.8900 - val_accuracy: 0.4819\n",
      "Epoch 57/100\n",
      "50000/50000 [==============================] - 5s 105us/step - loss: 0.4065 - accuracy: 0.8558 - val_loss: 2.9505 - val_accuracy: 0.4789\n",
      "Epoch 58/100\n",
      "50000/50000 [==============================] - 5s 97us/step - loss: 0.4090 - accuracy: 0.8548 - val_loss: 2.8574 - val_accuracy: 0.4803\n",
      "Epoch 59/100\n",
      "50000/50000 [==============================] - 5s 98us/step - loss: 0.4004 - accuracy: 0.8590 - val_loss: 2.9925 - val_accuracy: 0.4859\n",
      "Epoch 60/100\n",
      "50000/50000 [==============================] - 7s 133us/step - loss: 0.4021 - accuracy: 0.8576 - val_loss: 2.9464 - val_accuracy: 0.4749\n",
      "Epoch 61/100\n",
      "50000/50000 [==============================] - 5s 98us/step - loss: 0.3945 - accuracy: 0.8587 - val_loss: 3.0675 - val_accuracy: 0.4733\n",
      "Epoch 62/100\n",
      "50000/50000 [==============================] - 5s 91us/step - loss: 0.3879 - accuracy: 0.8629 - val_loss: 2.9700 - val_accuracy: 0.4788\n",
      "Epoch 63/100\n",
      "50000/50000 [==============================] - 5s 92us/step - loss: 0.3737 - accuracy: 0.8671 - val_loss: 3.1732 - val_accuracy: 0.4830\n",
      "Epoch 64/100\n",
      "50000/50000 [==============================] - 5s 92us/step - loss: 0.3679 - accuracy: 0.8694 - val_loss: 3.0368 - val_accuracy: 0.4708\n",
      "Epoch 65/100\n",
      "50000/50000 [==============================] - 5s 93us/step - loss: 0.3560 - accuracy: 0.8737 - val_loss: 3.2520 - val_accuracy: 0.4755\n",
      "Epoch 66/100\n",
      "50000/50000 [==============================] - 5s 91us/step - loss: 0.3565 - accuracy: 0.8736 - val_loss: 3.1289 - val_accuracy: 0.4736\n",
      "Epoch 67/100\n",
      "50000/50000 [==============================] - 5s 94us/step - loss: 0.3535 - accuracy: 0.8735 - val_loss: 3.2490 - val_accuracy: 0.4725\n",
      "Epoch 68/100\n",
      "50000/50000 [==============================] - 5s 96us/step - loss: 0.3595 - accuracy: 0.8720 - val_loss: 3.2555 - val_accuracy: 0.4795\n",
      "Epoch 69/100\n",
      "50000/50000 [==============================] - 5s 107us/step - loss: 0.3605 - accuracy: 0.8715 - val_loss: 3.2472 - val_accuracy: 0.4808\n",
      "Epoch 70/100\n",
      "50000/50000 [==============================] - 5s 93us/step - loss: 0.3257 - accuracy: 0.8852 - val_loss: 3.2886 - val_accuracy: 0.4764\n",
      "Epoch 71/100\n",
      "50000/50000 [==============================] - 5s 91us/step - loss: 0.3291 - accuracy: 0.8833 - val_loss: 3.3555 - val_accuracy: 0.4737\n",
      "Epoch 72/100\n",
      "50000/50000 [==============================] - 5s 91us/step - loss: 0.3473 - accuracy: 0.8769 - val_loss: 3.3792 - val_accuracy: 0.4756\n",
      "Epoch 73/100\n",
      "50000/50000 [==============================] - 5s 91us/step - loss: 0.3320 - accuracy: 0.8814 - val_loss: 3.4870 - val_accuracy: 0.4738\n",
      "Epoch 74/100\n",
      "50000/50000 [==============================] - 5s 93us/step - loss: 0.3170 - accuracy: 0.8898 - val_loss: 3.5269 - val_accuracy: 0.4714\n",
      "Epoch 75/100\n",
      "50000/50000 [==============================] - 5s 92us/step - loss: 0.3132 - accuracy: 0.8893 - val_loss: 3.5206 - val_accuracy: 0.4702\n",
      "Epoch 76/100\n",
      "50000/50000 [==============================] - 5s 100us/step - loss: 0.3076 - accuracy: 0.8909 - val_loss: 3.5834 - val_accuracy: 0.4763\n",
      "Epoch 77/100\n",
      "50000/50000 [==============================] - 8s 169us/step - loss: 0.3244 - accuracy: 0.8866 - val_loss: 3.5145 - val_accuracy: 0.4757\n",
      "Epoch 78/100\n",
      "50000/50000 [==============================] - 8s 156us/step - loss: 0.3011 - accuracy: 0.8948 - val_loss: 3.5765 - val_accuracy: 0.4738\n",
      "Epoch 79/100\n",
      "50000/50000 [==============================] - 8s 157us/step - loss: 0.3006 - accuracy: 0.8943 - val_loss: 3.6806 - val_accuracy: 0.4819\n",
      "Epoch 80/100\n",
      "50000/50000 [==============================] - 10s 202us/step - loss: 0.2996 - accuracy: 0.8950 - val_loss: 3.7987 - val_accuracy: 0.4718\n",
      "Epoch 81/100\n",
      "50000/50000 [==============================] - 6s 127us/step - loss: 0.2927 - accuracy: 0.8975 - val_loss: 3.7830 - val_accuracy: 0.4726\n",
      "Epoch 82/100\n",
      "50000/50000 [==============================] - 5s 104us/step - loss: 0.3166 - accuracy: 0.8896 - val_loss: 3.8072 - val_accuracy: 0.4690\n",
      "Epoch 83/100\n",
      "50000/50000 [==============================] - 5s 108us/step - loss: 0.2833 - accuracy: 0.9009 - val_loss: 3.7748 - val_accuracy: 0.4641\n",
      "Epoch 84/100\n",
      "50000/50000 [==============================] - 5s 109us/step - loss: 0.2709 - accuracy: 0.9062 - val_loss: 3.8476 - val_accuracy: 0.4710\n",
      "Epoch 85/100\n",
      "50000/50000 [==============================] - 6s 120us/step - loss: 0.2694 - accuracy: 0.9059 - val_loss: 3.9451 - val_accuracy: 0.4755\n",
      "Epoch 86/100\n",
      "50000/50000 [==============================] - 5s 101us/step - loss: 0.2820 - accuracy: 0.9000 - val_loss: 3.9666 - val_accuracy: 0.4717\n",
      "Epoch 87/100\n",
      "50000/50000 [==============================] - 5s 97us/step - loss: 0.2683 - accuracy: 0.9076 - val_loss: 4.0461 - val_accuracy: 0.4715\n",
      "Epoch 88/100\n",
      "50000/50000 [==============================] - 5s 101us/step - loss: 0.2775 - accuracy: 0.9024 - val_loss: 3.9973 - val_accuracy: 0.4686\n",
      "Epoch 89/100\n",
      "50000/50000 [==============================] - 5s 100us/step - loss: 0.2812 - accuracy: 0.9010 - val_loss: 3.9881 - val_accuracy: 0.4769\n",
      "Epoch 90/100\n",
      "50000/50000 [==============================] - 5s 98us/step - loss: 0.2577 - accuracy: 0.9076 - val_loss: 3.9472 - val_accuracy: 0.4751\n",
      "Epoch 91/100\n",
      "50000/50000 [==============================] - 5s 93us/step - loss: 0.2578 - accuracy: 0.9110 - val_loss: 4.1704 - val_accuracy: 0.4666\n",
      "Epoch 92/100\n",
      "50000/50000 [==============================] - 5s 105us/step - loss: 0.2762 - accuracy: 0.9040 - val_loss: 3.9462 - val_accuracy: 0.4718\n",
      "Epoch 93/100\n",
      "50000/50000 [==============================] - 5s 97us/step - loss: 0.2493 - accuracy: 0.9147 - val_loss: 4.0786 - val_accuracy: 0.4693\n",
      "Epoch 94/100\n",
      "50000/50000 [==============================] - 5s 94us/step - loss: 0.2447 - accuracy: 0.9152 - val_loss: 4.2303 - val_accuracy: 0.4685\n",
      "Epoch 95/100\n",
      "50000/50000 [==============================] - 5s 95us/step - loss: 0.2621 - accuracy: 0.9089 - val_loss: 4.1875 - val_accuracy: 0.4685\n",
      "Epoch 96/100\n",
      "50000/50000 [==============================] - 5s 93us/step - loss: 0.2625 - accuracy: 0.9078 - val_loss: 4.2046 - val_accuracy: 0.4658\n",
      "Epoch 97/100\n",
      "50000/50000 [==============================] - 5s 93us/step - loss: 0.2502 - accuracy: 0.9134 - val_loss: 4.1737 - val_accuracy: 0.4721\n",
      "Epoch 98/100\n",
      "50000/50000 [==============================] - 5s 94us/step - loss: 0.2394 - accuracy: 0.9167 - val_loss: 4.2974 - val_accuracy: 0.4644\n",
      "Epoch 99/100\n",
      "50000/50000 [==============================] - 5s 93us/step - loss: 0.2618 - accuracy: 0.9095 - val_loss: 4.2493 - val_accuracy: 0.4747\n",
      "Epoch 100/100\n",
      "50000/50000 [==============================] - 5s 95us/step - loss: 0.2280 - accuracy: 0.9203 - val_loss: 4.3308 - val_accuracy: 0.4651\n"
     ]
    },
    {
     "data": {
      "text/plain": [
       "<keras.callbacks.callbacks.History at 0x63dac10b8>"
      ]
     },
     "execution_count": 10,
     "metadata": {},
     "output_type": "execute_result"
    }
   ],
   "source": [
    "model.fit(x_train, y_train, \n",
    "          epochs=EPOCHS, \n",
    "          batch_size=BATCH_SIZE, \n",
    "          validation_data=(x_test, y_test), \n",
    "          shuffle=True)"
   ]
  },
  {
   "cell_type": "code",
   "execution_count": 12,
   "metadata": {},
   "outputs": [
    {
     "data": {
      "image/png": "[encoded data removed]",
      "text/plain": [
       "<Figure size 432x288 with 1 Axes>"
      ]
     },
     "metadata": {
      "needs_background": "light"
     },
     "output_type": "display_data"
    },
    {
     "data": {
      "image/png": "[encoded data removed]",
      "text/plain": [
       "<Figure size 432x288 with 1 Axes>"
      ]
     },
     "metadata": {
      "needs_background": "light"
     },
     "output_type": "display_data"
    }
   ],
   "source": [
    "import matplotlib.pyplot as plt\n",
    "\n",
    "train_loss = model.history.history[\"loss\"]\n",
    "valid_loss = model.history.history[\"val_loss\"]\n",
    "\n",
    "train_acc = model.history.history[\"accuracy\"]\n",
    "valid_acc = model.history.history[\"val_accuracy\"]\n",
    "\n",
    "plt.plot(range(len(train_loss)), train_loss, label=\"train loss\")\n",
    "plt.plot(range(len(valid_loss)), valid_loss, label=\"valid loss\")\n",
    "plt.legend()\n",
    "plt.title(\"Loss\")\n",
    "plt.show()\n",
    "\n",
    "plt.plot(range(len(train_acc)), train_acc, label=\"train accuracy\")\n",
    "plt.plot(range(len(valid_acc)), valid_acc, label=\"valid accuracy\")\n",
    "plt.legend()\n",
    "plt.title(\"Accuracy\")\n",
    "plt.show()"
   ]
  },
  {
   "cell_type": "code",
   "execution_count": null,
   "metadata": {},
   "outputs": [],
   "source": []
  }
 ],
 "metadata": {
  "kernelspec": {
   "display_name": "Python 3",
   "language": "python",
   "name": "python3"
  },
  "language_info": {
   "codemirror_mode": {
    "name": "ipython",
    "version": 3
   },
   "file_extension": ".py",
   "mimetype": "text/x-python",
   "name": "python",
   "nbconvert_exporter": "python",
   "pygments_lexer": "ipython3",
   "version": "3.7.3"
  }
 },
 "nbformat": 4,
 "nbformat_minor": 2
}
