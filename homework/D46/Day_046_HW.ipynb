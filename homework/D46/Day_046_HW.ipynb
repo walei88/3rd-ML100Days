{
 "cells": [
  {
   "cell_type": "markdown",
   "metadata": {},
   "source": [
    "### 作業\n",
    "目前已經學過許多的模型，相信大家對整體流程應該比較掌握了，這次作業請改用**手寫辨識資料集**，步驟流程都是一樣的，請試著自己撰寫程式碼來完成所有步驟"
   ]
  },
  {
   "cell_type": "code",
   "execution_count": 1,
   "metadata": {},
   "outputs": [],
   "source": [
    "# 載入工具\n",
    "from sklearn import linear_model, datasets, metrics\n",
    "from sklearn.ensemble import GradientBoostingClassifier\n",
    "from sklearn.model_selection import train_test_split"
   ]
  },
  {
   "cell_type": "code",
   "execution_count": 2,
   "metadata": {
    "scrolled": true
   },
   "outputs": [
    {
     "name": "stdout",
     "output_type": "stream",
     "text": [
      "準確率為：0.987\n"
     ]
    }
   ],
   "source": [
    "# 載入digits的資料\n",
    "digits = datasets.load_digits()\n",
    "\n",
    "# 拆分資料\n",
    "train_X, test_X, train_y, test_y = train_test_split(digits.data, digits.target, test_size=0.25, random_state=4)\n",
    "\n",
    "# 建立模型\n",
    "clf = GradientBoostingClassifier(learning_rate=0.2, max_depth=2, n_estimators=150, \n",
    "                                 min_samples_split=2, min_samples_leaf=1, min_weight_fraction_leaf=0.2)\n",
    "\n",
    "# 擬合數據\n",
    "clf.fit(train_X, train_y)\n",
    "\n",
    "# 預測結果\n",
    "pred = clf.predict(test_X)\n",
    "acc = metrics.accuracy_score(test_y, pred)\n",
    "print('準確率為：%.3f' %(acc))"
   ]
  }
 ],
 "metadata": {
  "kernelspec": {
   "display_name": "Python 3",
   "language": "python",
   "name": "python3"
  },
  "language_info": {
   "codemirror_mode": {
    "name": "ipython",
    "version": 3
   },
   "file_extension": ".py",
   "mimetype": "text/x-python",
   "name": "python",
   "nbconvert_exporter": "python",
   "pygments_lexer": "ipython3",
   "version": "3.7.3"
  }
 },
 "nbformat": 4,
 "nbformat_minor": 2
}
