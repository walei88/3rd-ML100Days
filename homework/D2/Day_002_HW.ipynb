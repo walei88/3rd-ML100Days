{
 "cells": [
  {
   "cell_type": "markdown",
   "metadata": {},
   "source": [
    "## [作業目標]\n",
    "了解機器學習適合應用的領域與範疇。"
   ]
  },
  {
   "cell_type": "markdown",
   "metadata": {},
   "source": [
    "## [作業重點]\n",
    "透過瞭解機器學習的運作方式，找出非常適用機器學習應用的領域及其原因"
   ]
  },
  {
   "cell_type": "markdown",
   "metadata": {},
   "source": [
    "## 作業\n",
    "請找出一個你認為機器學習可以發光發熱的領域並闡述原因? "
   ]
  },
  {
   "cell_type": "markdown",
   "metadata": {},
   "source": [
    "###  領域：無人駕駛系統\n",
    "鑑於全球經濟的快速發展，如何有效的降低運輸成本，變成為其中一門重要的課題。\n",
    "\n",
    "我們可以回顧往年淘寶舉辦的光棍節活動，可以清楚知道，如何有效、準確、快速地將商品送至消費者的手上，成為物流商最重要的課題之一，從結果來看，使用傳統人力方式撿貨、分裝顯然無法符合爆量的物流需求。\n",
    "\n",
    "機器學習除了可以讓相關流程自動化已經不是新聞，重點是撿貨完成後續的運送部分，目前依然是以人力運送最為大宗，這方面需要高度倚賴貨運司機的經驗與判斷，才能較有效地訂定較佳的運送路線、避開尖峰時段的車潮。\n",
    "\n",
    "以物流公司的立場來說，這樣的做法是有一定的風險，例如像2017年北京政府清除低端人口的事件，重創物流業，假如這種情況正好發生在貨物爆量期間，勢必造成物流系統的癱瘓，不僅影響了物流業的商譽，更連帶造成消費者與電商的損失。\n",
    "\n",
    "因此，無人駕駛系統，取代大部分的物流司機勢必形成一股無可避免的時代的洪流。"
   ]
  }
 ],
 "metadata": {
  "kernelspec": {
   "display_name": "Python 3",
   "language": "python",
   "name": "python3"
  },
  "language_info": {
   "codemirror_mode": {
    "name": "ipython",
    "version": 3
   },
   "file_extension": ".py",
   "mimetype": "text/x-python",
   "name": "python",
   "nbconvert_exporter": "python",
   "pygments_lexer": "ipython3",
   "version": "3.7.3"
  }
 },
 "nbformat": 4,
 "nbformat_minor": 2
}
